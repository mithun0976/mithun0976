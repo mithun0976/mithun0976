{
 "cells": [
  {
   "cell_type": "code",
   "execution_count": 27,
   "metadata": {},
   "outputs": [
    {
     "name": "stdout",
     "output_type": "stream",
     "text": [
      "Your number is too short\n"
     ]
    }
   ],
   "source": [
    "number=input(\"Please enter your number: \")\n",
    "if len(number)==11:\n",
    "    print(\"Thank you,\", number)  \n",
    "elif len(number) > 11:\n",
    "    print(\"Your number is too long\")\n",
    "elif len(number) < 11:\n",
    "    print(\"Your number is too short\")\n"
   ]
  },
  {
   "cell_type": "code",
   "execution_count": 13,
   "metadata": {},
   "outputs": [
    {
     "name": "stdout",
     "output_type": "stream",
     "text": [
      "23\n",
      "22345\n",
      "Your are not eligable for credit card\n"
     ]
    }
   ],
   "source": [
    "print(input(\"Please enter your age: \"))\n",
    "print(input(\"Please mention your salary: \"))\n",
    "if (age>=18) and (salary>=40000):\n",
    "    print(\"You are eligable for credit card\")\n",
    "else:\n",
    "    print(\"Your are not eligable for credit card\")"
   ]
  }
 ],
 "metadata": {
  "interpreter": {
   "hash": "63b2014fe923bc11fc1089a45e8d8d32d8530e11d1dfc98edf4ada9c05eba13b"
  },
  "kernelspec": {
   "display_name": "Python 3.10.0 64-bit",
   "language": "python",
   "name": "python3"
  },
  "language_info": {
   "codemirror_mode": {
    "name": "ipython",
    "version": 3
   },
   "file_extension": ".py",
   "mimetype": "text/x-python",
   "name": "python",
   "nbconvert_exporter": "python",
   "pygments_lexer": "ipython3",
   "version": "3.10.0"
  },
  "orig_nbformat": 4
 },
 "nbformat": 4,
 "nbformat_minor": 2
}
